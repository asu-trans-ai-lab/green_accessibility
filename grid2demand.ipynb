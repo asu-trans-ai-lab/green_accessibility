{
  "nbformat": 4,
  "nbformat_minor": 0,
  "metadata": {
    "colab": {
      "name": "grid2demand.ipynb",
      "provenance": [],
      "authorship_tag": "ABX9TyMZspK1TYhR6U2dYKEsT5Hr",
      "include_colab_link": true
    },
    "kernelspec": {
      "name": "python3",
      "display_name": "Python 3"
    }
  },
  "cells": [
    {
      "cell_type": "markdown",
      "metadata": {
        "id": "view-in-github",
        "colab_type": "text"
      },
      "source": [
        "<a href=\"https://colab.research.google.com/github/asu-trans-ai-lab/osm_test_data_set/blob/main/grid2demand.ipynb\" target=\"_parent\"><img src=\"https://colab.research.google.com/assets/colab-badge.svg\" alt=\"Open In Colab\"/></a>"
      ]
    },
    {
      "cell_type": "code",
      "metadata": {
        "id": "JrrUKHe2FE3U"
      },
      "source": [
        "import numpy as np\n",
        "from matplotlib import pyplot as plt\n"
      ],
      "execution_count": 1,
      "outputs": []
    },
    {
      "cell_type": "code",
      "metadata": {
        "colab": {
          "base_uri": "https://localhost:8080/"
        },
        "id": "_-NrFvX1FK8k",
        "outputId": "d950b334-8e36-4507-bd3c-72aa7082e517"
      },
      "source": [
        "!pip install grid2demand"
      ],
      "execution_count": 2,
      "outputs": [
        {
          "output_type": "stream",
          "text": [
            "Collecting grid2demand\n",
            "  Downloading https://files.pythonhosted.org/packages/df/f3/05e32c657f8f869d68f49e43ba4098cdb4648a068a01a99ac4d0503fffc7/grid2demand-0.0.1.25-py3-none-any.whl\n",
            "Requirement already satisfied: numpy in /usr/local/lib/python3.7/dist-packages (from grid2demand) (1.19.5)\n",
            "Requirement already satisfied: pandas>=0.24.0 in /usr/local/lib/python3.7/dist-packages (from grid2demand) (1.1.5)\n",
            "Requirement already satisfied: python-dateutil>=2.7.3 in /usr/local/lib/python3.7/dist-packages (from pandas>=0.24.0->grid2demand) (2.8.1)\n",
            "Requirement already satisfied: pytz>=2017.2 in /usr/local/lib/python3.7/dist-packages (from pandas>=0.24.0->grid2demand) (2018.9)\n",
            "Requirement already satisfied: six>=1.5 in /usr/local/lib/python3.7/dist-packages (from python-dateutil>=2.7.3->pandas>=0.24.0->grid2demand) (1.15.0)\n",
            "Installing collected packages: grid2demand\n",
            "Successfully installed grid2demand-0.0.1.25\n"
          ],
          "name": "stdout"
        }
      ]
    },
    {
      "cell_type": "code",
      "metadata": {
        "colab": {
          "base_uri": "https://localhost:8080/"
        },
        "id": "xDcnroglJjXm",
        "outputId": "6eca9225-6fa0-47ca-99f6-ebc331c75ddf"
      },
      "source": [
        "import grid2demand as gd"
      ],
      "execution_count": 3,
      "outputs": [
        {
          "output_type": "stream",
          "text": [
            "grid2demand, version 0.0.1.25\n"
          ],
          "name": "stdout"
        }
      ]
    },
    {
      "cell_type": "code",
      "metadata": {
        "id": "ct7CfRJ9Jp_S",
        "outputId": "00e9b837-dfa6-45bd-8ac9-a1c68499acf3",
        "colab": {
          "base_uri": "https://localhost:8080/"
        }
      },
      "source": [
        "!rm -rf ./osm_test_data_set/\n",
        "!git clone https://github.com/asu-trans-ai-lab/osm_test_data_set"
      ],
      "execution_count": 5,
      "outputs": [
        {
          "output_type": "stream",
          "text": [
            "Cloning into 'osm_test_data_set'...\n",
            "remote: Enumerating objects: 69, done.\u001b[K\n",
            "remote: Counting objects: 100% (69/69), done.\u001b[K\n",
            "remote: Compressing objects: 100% (61/61), done.\u001b[K\n",
            "remote: Total 69 (delta 10), reused 54 (delta 4), pack-reused 0\u001b[K\n",
            "Unpacking objects: 100% (69/69), done.\n"
          ],
          "name": "stdout"
        }
      ]
    },
    {
      "cell_type": "code",
      "metadata": {
        "id": "acDH4kFpKNtC",
        "outputId": "57f8b721-8218-44dc-ea28-533b690cba98",
        "colab": {
          "base_uri": "https://localhost:8080/"
        }
      },
      "source": [
        "%cd osm_test_data_set"
      ],
      "execution_count": 7,
      "outputs": [
        {
          "output_type": "stream",
          "text": [
            "/content/osm_test_data_set\n"
          ],
          "name": "stdout"
        }
      ]
    },
    {
      "cell_type": "code",
      "metadata": {
        "id": "_cmBVJ_KKf1r",
        "outputId": "f31d3bbb-34e6-4395-ca55-b5650dbebb3d",
        "colab": {
          "base_uri": "https://localhost:8080/"
        }
      },
      "source": [
        "%cd datasets/6_Phx_I10_demand/"
      ],
      "execution_count": 8,
      "outputs": [
        {
          "output_type": "stream",
          "text": [
            "/content/osm_test_data_set/datasets/6_Phx_I10_demand\n"
          ],
          "name": "stdout"
        }
      ]
    },
    {
      "cell_type": "code",
      "metadata": {
        "id": "EbIz8pgPJgsn",
        "colab": {
          "base_uri": "https://localhost:8080/"
        },
        "outputId": "1833aaba-7038-484f-929f-b97d32c0a56d"
      },
      "source": [
        "\"Step 1: Read Input Network Data\"\n",
        "net = gd.ReadNetworkFiles('')\n",
        "\n",
        "\"Step 2: Partition Grid into cells\"\n",
        "zone = gd.PartitionGrid(number_of_x_blocks=5, number_of_y_blocks=5, cell_width=None, cell_height=None)\n",
        "# user can customize number of grid cells or cell's width and height\n",
        "\n",
        "\"Step 3: Get Production/Attraction Rates of Each Land Use Type with a Specific Trip Purpose\"\n",
        "triprate = gd.GetPoiTripRate(trip_rate_folder='',trip_purpose=1)\n",
        "# user can customize poi_trip_rate.csv and trip purpose\n",
        "\n",
        "\"Step 4: Define Production/Attraction Value of Each Node According to POI Type\"\n",
        "nodedemand = gd.GetNodeDemand()\n",
        "\n",
        "\"Step 5: Calculate Zone-to-zone Accessibility Matrix by Centroid-to-centroid Straight Distance\"\n",
        "accessibility = gd.ProduceAccessMatrix(latitude=30, accessibility_folder='')\n",
        "# user can customize the latitude of the research area and accessibility.csv\n",
        "\n",
        "\"Step 6: Apply Gravity Model to Conduct Trip Distribution\"\n",
        "demand = gd.RunGravityModel(trip_purpose=1, a=None, b=None, c=None)\n",
        "# user can customize friction factor coefficients under a specific trip purpose\n",
        "\"Step 7: Generate Agent\"\n",
        "demand = gd.GenerateAgentBasedDemand()"
      ],
      "execution_count": 10,
      "outputs": [
        {
          "output_type": "stream",
          "text": [
            "2021-04-06 21:50:58,402 - grid2demand_0330a.py[line:361] - WARNING: Latitude is not defined for network partition. Default latitude is 30 degree!\n",
            "2021-04-06 21:50:58,402 - grid2demand_0330a.py[line:361] - WARNING: Latitude is not defined for network partition. Default latitude is 30 degree!\n",
            "2021-04-06 21:50:58,402 - grid2demand_0330a.py[line:361] - WARNING: Latitude is not defined for network partition. Default latitude is 30 degree!\n",
            "2021-04-06 21:50:58,916 - grid2demand_0330a.py[line:848] - WARNING: poi_trip_rate.csv does not exist in the current folder. Default values will be used.\n",
            "2021-04-06 21:50:58,916 - grid2demand_0330a.py[line:848] - WARNING: poi_trip_rate.csv does not exist in the current folder. Default values will be used.\n",
            "2021-04-06 21:50:58,916 - grid2demand_0330a.py[line:848] - WARNING: poi_trip_rate.csv does not exist in the current folder. Default values will be used.\n",
            "2021-04-06 21:50:58,954 - grid2demand_0330a.py[line:971] - WARNING: Production value of residential nodes is not defined! Default value is 10.\n",
            "2021-04-06 21:50:58,954 - grid2demand_0330a.py[line:971] - WARNING: Production value of residential nodes is not defined! Default value is 10.\n",
            "2021-04-06 21:50:58,954 - grid2demand_0330a.py[line:971] - WARNING: Production value of residential nodes is not defined! Default value is 10.\n"
          ],
          "name": "stderr"
        },
        {
          "output_type": "stream",
          "text": [
            "\n",
            "Number of zones including virtual zones = 90\n",
            "\n",
            "Tab of trip purposes used in grid2demand =  1\n",
            "\n",
            "Total number of poi nodes with unmatched production rate =  4394\n",
            "Total number of poi nodes with unmatched attraction rate =  1242\n"
          ],
          "name": "stdout"
        },
        {
          "output_type": "stream",
          "text": [
            "2021-04-06 21:50:58,964 - grid2demand_0330a.py[line:974] - WARNING: Attraction value of residential nodes is not defined! Default value is 10.\n",
            "2021-04-06 21:50:58,964 - grid2demand_0330a.py[line:974] - WARNING: Attraction value of residential nodes is not defined! Default value is 10.\n",
            "2021-04-06 21:50:58,964 - grid2demand_0330a.py[line:974] - WARNING: Attraction value of residential nodes is not defined! Default value is 10.\n",
            "2021-04-06 21:50:58,970 - grid2demand_0330a.py[line:977] - WARNING: Production value of boundary nodes is not defined! Default value is 1000.\n",
            "2021-04-06 21:50:58,970 - grid2demand_0330a.py[line:977] - WARNING: Production value of boundary nodes is not defined! Default value is 1000.\n",
            "2021-04-06 21:50:58,970 - grid2demand_0330a.py[line:977] - WARNING: Production value of boundary nodes is not defined! Default value is 1000.\n",
            "2021-04-06 21:50:58,974 - grid2demand_0330a.py[line:980] - WARNING: Attraction value of boundary nodes is not defined! Default value is 1000.\n",
            "2021-04-06 21:50:58,974 - grid2demand_0330a.py[line:980] - WARNING: Attraction value of boundary nodes is not defined! Default value is 1000.\n",
            "2021-04-06 21:50:58,974 - grid2demand_0330a.py[line:980] - WARNING: Attraction value of boundary nodes is not defined! Default value is 1000.\n"
          ],
          "name": "stderr"
        },
        {
          "output_type": "stream",
          "text": [
            "\n",
            "Latitude used for grid2demand =  30\n",
            "\n",
            "Number of OD pairs =  8100\n",
            "\n",
            "Largest accessibility of distance = 10.12 km\n",
            "Average accessibility of distance = 3.87 km\n",
            "\n",
            "Default values of friction factor coefficients under trip purpose 1: \n",
            "a= 28507 \n",
            "b= -0.02 \n",
            "c= -0.123\n",
            "\n",
            "Zone-to-zone OD pair with largest volume is from Gate12 to Gate16\n",
            "Origin zone with largest production volume is Gate16\n",
            "Destination zone with largest attraction volume is Gate16\n",
            "\n",
            "Number of agents =  273888\n"
          ],
          "name": "stdout"
        }
      ]
    }
  ]
}